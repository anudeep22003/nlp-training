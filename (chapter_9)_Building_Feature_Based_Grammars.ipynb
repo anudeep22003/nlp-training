{
  "nbformat": 4,
  "nbformat_minor": 0,
  "metadata": {
    "colab": {
      "name": "(chapter 9) Building Feature Based Grammars.ipynb",
      "provenance": [],
      "authorship_tag": "ABX9TyPNXvw+dpQtPqMh12FewO3l",
      "include_colab_link": true
    },
    "kernelspec": {
      "name": "python3",
      "display_name": "Python 3"
    },
    "language_info": {
      "name": "python"
    }
  },
  "cells": [
    {
      "cell_type": "markdown",
      "metadata": {
        "id": "view-in-github",
        "colab_type": "text"
      },
      "source": [
        "<a href=\"https://colab.research.google.com/github/anudeep22003/nlp-training/blob/main/(chapter_9)_Building_Feature_Based_Grammars.ipynb\" target=\"_parent\"><img src=\"https://colab.research.google.com/assets/colab-badge.svg\" alt=\"Open In Colab\"/></a>"
      ]
    },
    {
      "cell_type": "code",
      "metadata": {
        "colab": {
          "base_uri": "https://localhost:8080/"
        },
        "id": "IXHKNcLRw2wT",
        "outputId": "18e7fb06-d70a-4c26-b276-eacfbd650078"
      },
      "source": [
        "import nltk\n",
        "from nltk import word_tokenize, re\n",
        "import matplotlib.pyplot as plt\n",
        "from pprint import pprint\n",
        "nltk.download('brown')\n",
        "nltk.download('treebank')\n",
        "nltk.download('words')\n",
        "\n",
        "\n",
        "from nltk.corpus import conll2000\n",
        "nltk.download('conll2000')\n",
        "\n",
        "import math \n",
        "import random\n",
        "\n",
        "from nltk.corpus import treebank\n",
        "nltk.download('treebank')\n",
        "\n",
        "from collections import defaultdict\n",
        "\n",
        "nltk.download('ppattach')\n",
        "\n",
        "\n",
        "nltk.download('book_grammars')"
      ],
      "execution_count": 1,
      "outputs": [
        {
          "output_type": "stream",
          "name": "stdout",
          "text": [
            "[nltk_data] Downloading package brown to /root/nltk_data...\n",
            "[nltk_data]   Unzipping corpora/brown.zip.\n",
            "[nltk_data] Downloading package treebank to /root/nltk_data...\n",
            "[nltk_data]   Unzipping corpora/treebank.zip.\n",
            "[nltk_data] Downloading package words to /root/nltk_data...\n",
            "[nltk_data]   Unzipping corpora/words.zip.\n",
            "[nltk_data] Downloading package conll2000 to /root/nltk_data...\n",
            "[nltk_data]   Unzipping corpora/conll2000.zip.\n",
            "[nltk_data] Downloading package treebank to /root/nltk_data...\n",
            "[nltk_data]   Package treebank is already up-to-date!\n",
            "[nltk_data] Downloading package ppattach to /root/nltk_data...\n",
            "[nltk_data]   Unzipping corpora/ppattach.zip.\n",
            "[nltk_data] Downloading package book_grammars to /root/nltk_data...\n",
            "[nltk_data]   Unzipping grammars/book_grammars.zip.\n"
          ]
        },
        {
          "output_type": "execute_result",
          "data": {
            "text/plain": [
              "True"
            ]
          },
          "metadata": {},
          "execution_count": 1
        }
      ]
    },
    {
      "cell_type": "markdown",
      "metadata": {
        "id": "knsCgbWmzhYz"
      },
      "source": [
        "Main goals of this chapter:\n",
        "\n",
        "- How can we extend the framework of context free grammars with features so as to gain more fine-grained control over grammatical categories and productions?\n",
        "- What are the main formal properties of feature structures and how do we use them computationally?\n",
        "- What kinds of linguistic patterns and grammatical constructions can we now capture with feature based grammars?\n"
      ]
    },
    {
      "cell_type": "markdown",
      "metadata": {
        "id": "vuk-EpD7zvGl"
      },
      "source": [
        "#1. Grammatical Features\n",
        "\n",
        ">This is a combination of context free grammars from the previous section combined with feature extraction from the supervised learning. \n",
        "\n",
        "**Note:** In contrast to the other chapter where we record features that have already been detected (eg: last letter of a name), here we declare features of words and phrases. \n",
        "\n",
        "Feature extractors:\n",
        "- Contain various kinds of information about grammatical entities \n",
        "- need not be exhaustive at definition, and can be added to later\n",
        "\n",
        "The problem with the way we are using features structures is that they are extremely adhoc and need to be stated separately for every new lexical entity that is part of the vocabulary. \n",
        "\n",
        "We will look in the next section how we can expand to be able to build a framework that is more generic. "
      ]
    },
    {
      "cell_type": "code",
      "metadata": {
        "id": "ipTC22TT01jR"
      },
      "source": [
        "# these are known as feature structures of the grammar\n",
        "\n",
        "kim = {\n",
        "    'CAT': 'NP',        # grammatical category\n",
        "    'ORTH': 'Kim',      # orthography i.e. spelling \n",
        "    'REF': 'kim'          # referent of Kim \n",
        "       }\n",
        "\n",
        "chase = {\n",
        "    'CAT': 'V',\n",
        "    'ORTH': 'chased',\n",
        "    'REL': 'chase'      # relation expressed by the word \n",
        "}\n",
        "\n",
        "lee = {\n",
        "    'CAT': 'NP',\n",
        "    'ORTH':'Lee',\n",
        "    'REF': 'lee'\n",
        "}"
      ],
      "execution_count": 3,
      "outputs": []
    },
    {
      "cell_type": "code",
      "metadata": {
        "id": "fGpS9BjR5pdy"
      },
      "source": [
        "chase['AGT'] = 'subject'      # the agent of the verb\n",
        "\n",
        "# patient of the object \n",
        "# (the semantic role of a noun phrase denoting something that is affected or acted upon by the action of a verb.)\n",
        "chase['PAT'] = 'object'     "
      ],
      "execution_count": 4,
      "outputs": []
    },
    {
      "cell_type": "code",
      "metadata": {
        "colab": {
          "base_uri": "https://localhost:8080/"
        },
        "id": "GKjWRdRcMjyJ",
        "outputId": "3cc95f4c-7897-419f-b5a6-c4c0d07f5cc3"
      },
      "source": [
        "tokens = \"Kim chased Lee\".split()\n",
        "\n",
        "# looks through the feature structures we defined, \n",
        "# finds a match, returns the dict of the match \n",
        "def lex2fs(word):\n",
        "  for feature_structure in [kim, chase, lee]:\n",
        "    \n",
        "    # checking if the word is the word's spelling\n",
        "    if feature_structure['ORTH'] == word:\n",
        "      return feature_structure\n",
        "\n",
        "subj, verb, obj = lex2fs(tokens[0]), lex2fs(tokens[1]), lex2fs(tokens[2])\n",
        "verb['AGT'] = subj['REF']\n",
        "verb['PAT'] = obj['REF']\n",
        "\n",
        "for k,v in verb.items():\n",
        "  print(\"%-5s => %s\" % (k,v))\n",
        "print('\\n\\n')\n",
        "for k in ['ORTH', 'REL', 'AGT', 'PAT']:\n",
        "  print(\"%-5s => %s\" % (k, verb[k]))"
      ],
      "execution_count": 20,
      "outputs": [
        {
          "output_type": "stream",
          "name": "stdout",
          "text": [
            "CAT   => V\n",
            "ORTH  => chased\n",
            "REL   => chase\n",
            "AGT   => kim\n",
            "PAT   => lee\n",
            "\n",
            "\n",
            "\n",
            "ORTH  => chased\n",
            "REL   => chase\n",
            "AGT   => kim\n",
            "PAT   => lee\n"
          ]
        }
      ]
    },
    {
      "cell_type": "markdown",
      "metadata": {
        "id": "qzSsCTmsQRYc"
      },
      "source": [
        "## 1.1. Syntactic Agreement\n",
        "\n",
        "There is syntactic agreement that comes between verbs and nouns based on whether the noun is singular or plural. \n",
        "\n",
        "```\n",
        "(1)\t\t\n",
        "a.\t\tthis dog\n",
        "b.\t\t*these dog\n",
        "\n",
        "(2)\t\t\n",
        "a.\t\tthese dogs\n",
        "b.\t\t*this dogs\n",
        "```\n",
        "\n",
        "A similar kind of covariance holds between subject and predicates\n",
        "\n",
        "```\n",
        "(3)\t\t\n",
        "a.\t\tthe dog runs\n",
        "b.\t\t*the dog run\n",
        "\n",
        "(4)\t\t\n",
        "a.\t\tthe dogs run\n",
        "b.\t\t*the dogs runs\n",
        "```\n",
        "\n",
        "the covariance between subject and verb is called `agreement`\n",
        "\n",
        "> One way of capturing these constraints is to encode all the variations into the grammar but this comes at the cost of an exponential increase in the number of production rules. \n",
        "\n",
        "Eg: below by adding singular and plural variations, we 2x`d the size. \n",
        "If we add another, we increase size 6 times, since we have to do 2*3"
      ]
    },
    {
      "cell_type": "code",
      "metadata": {
        "id": "58jEUqq1SlZD"
      },
      "source": [
        "# lets encode the agreement constraints into a CFG \n",
        "\n",
        "grammar = nltk.CFG.fromstring(\"\"\"\n",
        "\n",
        "  S -> NP VP\n",
        "  NP -> Det N\n",
        "  VP -> V\n",
        "\n",
        "  Det -> 'this'\n",
        "  N -> 'dog'\n",
        "  V -> 'runs'\n",
        "\n",
        "\"\"\")\n",
        "\n",
        "# one way we can add constraints to the production is by hardcoding constraints\n",
        "\n",
        "grammar = nltk.CFG.fromstring(\"\"\"\n",
        "\n",
        "  S -> NP_SG VP_SG\n",
        "  S -> NP_PL VP_PL\n",
        "  NP_SG -> Det_SG N_SG\n",
        "  NP_PL -> Det_PL, N_PL\n",
        "  VP_SG -> V_SG\n",
        "  VP_PL -> V_PL\n",
        "\n",
        "  Det_SG -> 'this'\n",
        "  DET_PL -> 'these \n",
        "  N_SG -> 'dog'\n",
        "  N_PL -> 'dogs'\n",
        "  V_SG -> 'run'\n",
        "  V_PL -> 'runs'\n",
        "\n",
        "\"\"\")"
      ],
      "execution_count": null,
      "outputs": []
    },
    {
      "cell_type": "markdown",
      "metadata": {
        "id": "VFPNlfysU0_6"
      },
      "source": [
        "## 1.2. Using Attributes and Constraints \n",
        "\n",
        "We shorten the exponential size growth by adding the concept of properties to our linguistic categories \n",
        "\n",
        "> Here `[NUM=?n]` is used to enforce conditions on the trees, so that only the value of n chosen by the first condition in the production will be allowed for subsequent. \n",
        "\n",
        "### > Storing number independent lexical entries\n",
        "\n",
        "Certain lexical entries in English are independent of the grammatical number of the objects. Instead of storing them by stating them twice, one can use \n",
        "\n",
        "`Det[NUM=?n] -> 'the' | 'some' | 'any'`\n",
        "\n",
        "In fact we can be even more economical and **skip mention of the number** completely\n",
        "\n",
        "`Det -> 'the' | 'some' | 'any'`\n",
        "\n",
        "> You can have any number of features \n",
        "\n",
        "`VP[Tense=pres, NUM=PL] -> 'disappear' | 'walk'`\n",
        "\n",
        "> The rules are binded as dictionary values. So the values of `{?n: 'sg', ?t\" 'pres'}` are stored like a dictionary "
      ]
    },
    {
      "cell_type": "code",
      "metadata": {
        "id": "DyNDuhNiVVLE"
      },
      "source": [
        "grammar_attributed = nltk.CFG.fromstring(\"\"\"\n",
        "\n",
        "  S -> NP[NUM=?n] VP[NUM=?n]                  # here ?n means the value of n will be enforced when building trees\n",
        "  NP[NUM=?n] -> Det[NUM=?n] N[NUM=?n]\n",
        "  VP[NUM=?n] -> v[NUM=?n]\n",
        "\n",
        "  N[NUM=sg] -> 'this'\n",
        "  Det[NUM=pl] -> 'these'\n",
        "  Det[NUM = SG] -> 'this'\n",
        "  N[NUM=sg] -> 'dog'\n",
        "  N[NUM=pl] -> 'dogs'\n",
        "  V[NUM=sg] -> 'runs'\n",
        "  V[NUM=pl] -> 'run'\n",
        "\n",
        "\"\"\")"
      ],
      "execution_count": null,
      "outputs": []
    },
    {
      "cell_type": "code",
      "metadata": {
        "colab": {
          "base_uri": "https://localhost:8080/"
        },
        "id": "H1HLOveC0NNe",
        "outputId": "413b08e3-1753-4c3e-c7a2-0f82e2577277"
      },
      "source": [
        "# a combination of some of the features attributes\n",
        "nltk.download('book_grammars')\n",
        "nltk.data.show_cfg('grammars/book_grammars/feat0.fcfg')\n"
      ],
      "execution_count": 33,
      "outputs": [
        {
          "output_type": "stream",
          "name": "stdout",
          "text": [
            "[nltk_data] Downloading package book_grammars to /root/nltk_data...\n",
            "[nltk_data]   Package book_grammars is already up-to-date!\n",
            "% start S\n",
            "# ###################\n",
            "# Grammar Productions\n",
            "# ###################\n",
            "# S expansion productions\n",
            "S -> NP[NUM=?n] VP[NUM=?n]\n",
            "# NP expansion productions\n",
            "NP[NUM=?n] -> N[NUM=?n] \n",
            "NP[NUM=?n] -> PropN[NUM=?n] \n",
            "NP[NUM=?n] -> Det[NUM=?n] N[NUM=?n]\n",
            "NP[NUM=pl] -> N[NUM=pl] \n",
            "# VP expansion productions\n",
            "VP[TENSE=?t, NUM=?n] -> IV[TENSE=?t, NUM=?n]\n",
            "VP[TENSE=?t, NUM=?n] -> TV[TENSE=?t, NUM=?n] NP\n",
            "# ###################\n",
            "# Lexical Productions\n",
            "# ###################\n",
            "Det[NUM=sg] -> 'this' | 'every'\n",
            "Det[NUM=pl] -> 'these' | 'all'\n",
            "Det -> 'the' | 'some' | 'several'\n",
            "PropN[NUM=sg]-> 'Kim' | 'Jody'\n",
            "N[NUM=sg] -> 'dog' | 'girl' | 'car' | 'child'\n",
            "N[NUM=pl] -> 'dogs' | 'girls' | 'cars' | 'children' \n",
            "IV[TENSE=pres,  NUM=sg] -> 'disappears' | 'walks'\n",
            "TV[TENSE=pres, NUM=sg] -> 'sees' | 'likes'\n",
            "IV[TENSE=pres,  NUM=pl] -> 'disappear' | 'walk'\n",
            "TV[TENSE=pres, NUM=pl] -> 'see' | 'like'\n",
            "IV[TENSE=past] -> 'disappeared' | 'walked'\n",
            "TV[TENSE=past] -> 'saw' | 'liked'\n"
          ]
        }
      ]
    },
    {
      "cell_type": "code",
      "metadata": {
        "colab": {
          "base_uri": "https://localhost:8080/"
        },
        "id": "aiGCShNCooOW",
        "outputId": "6d1b2c49-6269-40e3-e259-476ab349b83a"
      },
      "source": [
        "from nltk import load_parser \n",
        "cp = load_parser(\"grammars/book_grammars/feat0.fcfg\", trace=2)\n",
        "\n",
        "sent = \"the dogs like the girls\".split()\n",
        "\n",
        "for tree in cp.parse(sent):\n",
        "  print(tree)"
      ],
      "execution_count": 9,
      "outputs": [
        {
          "output_type": "stream",
          "name": "stdout",
          "text": [
            "|.th.do.li.th.gi.|\n",
            "Leaf Init Rule:\n",
            "|[--]  .  .  .  .| [0:1] 'the'\n",
            "|.  [--]  .  .  .| [1:2] 'dogs'\n",
            "|.  .  [--]  .  .| [2:3] 'like'\n",
            "|.  .  .  [--]  .| [3:4] 'the'\n",
            "|.  .  .  .  [--]| [4:5] 'girls'\n",
            "Feature Bottom Up Predict Combine Rule:\n",
            "|[--]  .  .  .  .| [0:1] Det[] -> 'the' *\n",
            "Feature Bottom Up Predict Combine Rule:\n",
            "|[-->  .  .  .  .| [0:1] NP[NUM=?n] -> Det[NUM=?n] * N[NUM=?n] {}\n",
            "Feature Bottom Up Predict Combine Rule:\n",
            "|.  [--]  .  .  .| [1:2] N[NUM='pl'] -> 'dogs' *\n",
            "Feature Bottom Up Predict Combine Rule:\n",
            "|.  [--]  .  .  .| [1:2] NP[NUM='pl'] -> N[NUM='pl'] *\n",
            "Feature Single Edge Fundamental Rule:\n",
            "|[-----]  .  .  .| [0:2] NP[NUM='pl'] -> Det[NUM='pl'] N[NUM='pl'] *\n",
            "Feature Bottom Up Predict Combine Rule:\n",
            "|[----->  .  .  .| [0:2] S[] -> NP[NUM=?n] * VP[NUM=?n] {?n: 'pl'}\n",
            "Feature Bottom Up Predict Combine Rule:\n",
            "|.  [-->  .  .  .| [1:2] S[] -> NP[NUM=?n] * VP[NUM=?n] {?n: 'pl'}\n",
            "Feature Bottom Up Predict Combine Rule:\n",
            "|.  .  [--]  .  .| [2:3] TV[NUM='pl', TENSE='pres'] -> 'like' *\n",
            "Feature Bottom Up Predict Combine Rule:\n",
            "|.  .  [-->  .  .| [2:3] VP[NUM=?n, TENSE=?t] -> TV[NUM=?n, TENSE=?t] * NP[] {?n: 'pl', ?t: 'pres'}\n",
            "Feature Bottom Up Predict Combine Rule:\n",
            "|.  .  .  [--]  .| [3:4] Det[] -> 'the' *\n",
            "Feature Bottom Up Predict Combine Rule:\n",
            "|.  .  .  [-->  .| [3:4] NP[NUM=?n] -> Det[NUM=?n] * N[NUM=?n] {}\n",
            "Feature Bottom Up Predict Combine Rule:\n",
            "|.  .  .  .  [--]| [4:5] N[NUM='pl'] -> 'girls' *\n",
            "Feature Bottom Up Predict Combine Rule:\n",
            "|.  .  .  .  [--]| [4:5] NP[NUM='pl'] -> N[NUM='pl'] *\n",
            "Feature Single Edge Fundamental Rule:\n",
            "|.  .  .  [-----]| [3:5] NP[NUM='pl'] -> Det[NUM='pl'] N[NUM='pl'] *\n",
            "Feature Bottom Up Predict Combine Rule:\n",
            "|.  .  .  [----->| [3:5] S[] -> NP[NUM=?n] * VP[NUM=?n] {?n: 'pl'}\n",
            "Feature Single Edge Fundamental Rule:\n",
            "|.  .  [--------]| [2:5] VP[NUM='pl', TENSE='pres'] -> TV[NUM='pl', TENSE='pres'] NP[] *\n",
            "Feature Single Edge Fundamental Rule:\n",
            "|[==============]| [0:5] S[] -> NP[NUM='pl'] VP[NUM='pl'] *\n",
            "|.  [-----------]| [1:5] S[] -> NP[NUM='pl'] VP[NUM='pl'] *\n",
            "Feature Bottom Up Predict Combine Rule:\n",
            "|.  .  .  .  [-->| [4:5] S[] -> NP[NUM=?n] * VP[NUM=?n] {?n: 'pl'}\n",
            "(S[]\n",
            "  (NP[NUM='pl'] (Det[] the) (N[NUM='pl'] dogs))\n",
            "  (VP[NUM='pl', TENSE='pres']\n",
            "    (TV[NUM='pl', TENSE='pres'] like)\n",
            "    (NP[NUM='pl'] (Det[] the) (N[NUM='pl'] girls))))\n"
          ]
        }
      ]
    },
    {
      "cell_type": "markdown",
      "metadata": {
        "id": "_--7pzqqtjsg"
      },
      "source": [
        "## 1.3 Terminology\n",
        "\n",
        "So far we have had mostly single or group features. Single features are called **atomic**, in the sense they cannot be broken down further.  Features can be extended to include **Boolean features** as well as **bundle of features**\n",
        "\n",
        "--- \n",
        "**Example of Boolean:**\n",
        "\n",
        ">In the below, certain words have the auxilliary boolean `True` or `False` that means they are verbs that can take on an auxilliary character, compared to walks and likes which are also verbs but cannot take on an auxilliary character. \n",
        "\n",
        "```\n",
        "V[TENSE=pres, +AUX] -> 'can'\n",
        "V[TENSE=pres, +AUX] -> 'may'\n",
        "\n",
        "V[TENSE=pres, -AUX] -> 'walks'\n",
        "V[TENSE=pres, -AUX] -> 'likes'\n",
        "````\n",
        "---\n",
        "\n",
        "**Example of bundle of features**\n",
        "\n",
        ">Here the AGR value is a bundle of features. The format used below is called an `Attribute Value Matrix`\n",
        "\n",
        "```\n",
        "[POS = N             ]\n",
        "[                    ]\n",
        "[AGR = [PER = 3]     ]\n",
        "[      [NUM = pl]    ]\n",
        "[      [ GND = F]    ]\n",
        "```\n",
        "\n",
        "Hence we refactor a grammar to account for higher attribute specificity as so:\n",
        "\n",
        "```\n",
        "S                                      -> NP[AGR=?n] VP[AGR=?n]\n",
        "NP[AGR=?n]                             -> PropN[AGR=?n]\n",
        "VP[TENSE=?t, AGR=?n]                   -> Cop[TENSE=?t, AGR=?n] Adj\n",
        "\n",
        "Cop[TENSE=pres, AGR=[NUM=sg, PER=3]]   -> 'is'\n",
        "PropN[AGR=[NUM=sg, PER=3]]             -> 'Kim'\n",
        "Adj                                    -> 'happy'\n",
        "\n",
        "```"
      ]
    },
    {
      "cell_type": "markdown",
      "metadata": {
        "id": "WuqJUJdU_qjg"
      },
      "source": [
        "# Processing Feature Extractors\n",
        "\n",
        "- Atomic feature values can be strings or integers\n",
        "- Features are declared using the `FeatStruct()` constructor.\n",
        " - Feature structures are just a kind of dictionary, and hence can be accessed through similar indexing\n",
        "  - features dont need to be only of linguistic type, it can be used to reprsent any kind of knowledge (precursor to Knowledge Graphs) "
      ]
    },
    {
      "cell_type": "code",
      "metadata": {
        "colab": {
          "base_uri": "https://localhost:8080/"
        },
        "id": "yu3jJsOPtjZn",
        "outputId": "a6138115-c437-47c9-917b-990ffb0c47e1"
      },
      "source": [
        "# simple feature structure\n",
        "fs1 = nltk.FeatStruct(TENSE='past', NUM = 'sg')\n",
        "print(fs1, end = '\\n\\n')\n",
        "\n",
        "# indexing a feature structure\n",
        "print(fs1['NUM'])\n",
        "\n",
        "# complicated bundle of features \n",
        "fs2 = nltk.FeatStruct(POS = 'N', AGR = fs1)\n",
        "print(fs2, end = '\\n\\n')\n",
        "print(fs2.items(), end = '\\n---------------\\n')\n",
        "print(fs2['AGR']['TENSE'], \"--> multilevel indexing is required to access nested feature structure\", end = '\\n---------------\\n')\n",
        "\n",
        "\n",
        "# features don't need to be only linguistic, can represent general knowledge\n",
        "fs3 = nltk.FeatStruct(Phone = '4155833624', DOB = '12/05/1989', INTEREST = 'NLP') \n",
        "fs4 = nltk.FeatStruct(OG = fs2, KG = fs3)\n",
        "\n",
        "print(fs4)"
      ],
      "execution_count": 15,
      "outputs": [
        {
          "output_type": "stream",
          "name": "stdout",
          "text": [
            "[ NUM   = 'sg'   ]\n",
            "[ TENSE = 'past' ]\n",
            "\n",
            "sg\n",
            "[ AGR = [ NUM   = 'sg'   ] ]\n",
            "[       [ TENSE = 'past' ] ]\n",
            "[                          ]\n",
            "[ POS = 'N'                ]\n",
            "\n",
            "dict_items([('POS', 'N'), ('AGR', [NUM='sg', TENSE='past'])])\n",
            "---------------\n",
            "past --> multilevel indexing is required to access nested feature structure\n",
            "---------------\n",
            "[      [ DOB      = '12/05/1989' ]  ]\n",
            "[ KG = [ INTEREST = 'NLP'        ]  ]\n",
            "[      [ Phone    = '4155833624' ]  ]\n",
            "[                                   ]\n",
            "[      [ AGR = [ NUM   = 'sg'   ] ] ]\n",
            "[ OG = [       [ TENSE = 'past' ] ] ]\n",
            "[      [                          ] ]\n",
            "[      [ POS = 'N'                ] ]\n"
          ]
        }
      ]
    },
    {
      "cell_type": "markdown",
      "metadata": {
        "id": "jv0aJfkiDpNC"
      },
      "source": [
        "# Directed Acyclic graphs\n",
        "\n",
        ">It is often helpful to see feature structures as graphs, specifically `Directed Acyclic Graphs`\n",
        "\n",
        "- Feature names are labels on the directed arc\n",
        "- Feature values appear as labels on the nodes pointe to by the directed graph\n",
        "- **Feature paths** are defined as the sequence of arcs that can be followed from a root node \n",
        " - Feature path is the path taken through the feature graph that gets us a node.\n",
        " - paths are represented as tuples\n",
        " - See below, `(address, street)` is a feature path whose value is `Rue Pascal`\n",
        "- Feature graphs can share subgraphs\n",
        " - if Kim has a spouse, who has an address, their address can be represented as a separate feature struct, but to avoid redundancy it can point to the same subgraph because they share an address \n",
        " - Thus (address) and (spouse, address) point to the same subgraph \n",
        " - DAGs such as this are said to involve **structure sharing** or **reentrancy**\n",
        " - When two paths have the same value, they are said to be equivalent\n",
        "\n",
        "> subgraph sharing is represented in the matric style representation as a reference to a **coindex**, or a **tag** that the repeated structure is labeled with.\n",
        "\n",
        "\n",
        "![image.png](data:image/png;base64,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)\n"
      ]
    },
    {
      "cell_type": "code",
      "metadata": {
        "colab": {
          "base_uri": "https://localhost:8080/"
        },
        "id": "MosQc-REHWCs",
        "outputId": "f7910379-0b03-4f17-fead-40990dbc8edc"
      },
      "source": [
        "fs5 = nltk.FeatStruct(\"\"\"\n",
        "  [NAME = 'Lee', ADDRESS = (1) [NUMBER = 74, STREET = 'Rue Pascal'],\n",
        "  SPOUSE = [Name = 'Kim', ADDRESS -> (1)]]\n",
        "\"\"\")\n",
        "\n",
        "print(fs5)"
      ],
      "execution_count": 18,
      "outputs": [
        {
          "output_type": "stream",
          "name": "stdout",
          "text": [
            "[ ADDRESS = (1) [ NUMBER = 74           ] ]\n",
            "[               [ STREET = 'Rue Pascal' ] ]\n",
            "[                                         ]\n",
            "[ NAME    = 'Lee'                         ]\n",
            "[                                         ]\n",
            "[ SPOUSE  = [ ADDRESS -> (1)  ]           ]\n",
            "[           [ Name    = 'Kim' ]           ]\n"
          ]
        }
      ]
    },
    {
      "cell_type": "markdown",
      "metadata": {
        "id": "YITFNkYZIi_p"
      },
      "source": [
        "## 2.1 Subsumption and Unificaton\n",
        "\n",
        "### Subsumption\n",
        "\n",
        "> Subsume (v): 1530s, from Modern Latin subsumere **\"to take under,\"** from Latin sub \"under\" (see sub-) + sumere \"**to take, obtain, buy**,\" from sus‑, variant of sub‑ \"up from under\" + emere \"to take\" (from PIE root *em- \"to take, distribute\"). Related: Subsumed; subsuming, subsumption.\n",
        "\n",
        "`FS_0` subsumes `FS_1` if all the information contained in `FS_0` is also contained in `FS_1`. We use the symbol `⊑` to represent subsumption. \n",
        "\n",
        "FS20 ⊑ FS22\n",
        "\n",
        "Reentrancy makes this tricky. With reentrancy, if FS0 ⊑ FS1 then FS1 needs to have all the reentrancies and paths of FS0. \n",
        "\n",
        "The graph that is subsuming the other in a simple sense came before it, and provided the underlying structure that allowed the new edges and nodes to be added to, resulting in a \"subsumed graph.\""
      ]
    },
    {
      "cell_type": "markdown",
      "metadata": {
        "id": "hh2GveAyHpc7"
      },
      "source": [
        "### Unfication\n",
        "\n",
        "Unification is the combination of two graphs to yield a new graph that is subsumed by both the preceeding ones. It is in essence a merging of two graphs to yield a third graph. \n",
        "\n",
        "Some notes:\n",
        "- Subsmumption and unification are connected such that a unified set is subsumed by both the individual constituent graphs that were unifed. \n",
        "  ```If FS0 ⊑ FS1 then FS0 ⊔ FS1 = FS1```\n",
        "- If two graphs share the same edge but a different atom (also called node) then the unification results in a None on that edge. \n",
        "- Also works in reverse, if you add an atom to a common edge, then the atom is added to both the edges of the graph. \n",
        "\n",
        "> eg: you want to combine the following structures \n",
        "\n",
        "```\n",
        "[NUMBER = 74          ]\n",
        "[STREET = 'rue Pascal']\n",
        "```\n",
        "\n",
        "```\n",
        "[CITY = Paris          ]\n",
        "```\n",
        "\n",
        "Into a third graph \n",
        "\n",
        "```\n",
        "[NUMBER = 74          ]\n",
        "[STREET = 'rue Pascal']\n",
        "[CITY = 'Paris'       ]\n",
        "```\n",
        "\n",
        "You would use the unify operator.\n"
      ]
    },
    {
      "cell_type": "code",
      "metadata": {
        "colab": {
          "base_uri": "https://localhost:8080/"
        },
        "id": "CjzK2SrmKUWj",
        "outputId": "fe46dbef-8655-44f6-f077-05cf3b88554d"
      },
      "source": [
        "fs1 = nltk.FeatStruct(NUMBER = 74, STREET = 'Ruse Pascal')\n",
        "fs2 = nltk.FeatStruct(CITY = 'Paris')\n",
        "\n",
        "print(fs1.unify(fs2))\n",
        "\n",
        "# it is a symmetric operation\n",
        "print(fs2.unify(fs1))"
      ],
      "execution_count": 4,
      "outputs": [
        {
          "output_type": "stream",
          "name": "stdout",
          "text": [
            "[ CITY   = 'Paris'       ]\n",
            "[ NUMBER = 74            ]\n",
            "[ STREET = 'Ruse Pascal' ]\n",
            "[ CITY   = 'Paris'       ]\n",
            "[ NUMBER = 74            ]\n",
            "[ STREET = 'Ruse Pascal' ]\n"
          ]
        }
      ]
    },
    {
      "cell_type": "code",
      "metadata": {
        "colab": {
          "base_uri": "https://localhost:8080/"
        },
        "id": "LBYVaih2KsNV",
        "outputId": "e1980dfc-7463-409b-eacc-04feb63b53cf"
      },
      "source": [
        "# adding a feature for the spouse only \n",
        "\n",
        "fs0 = nltk.FeatStruct(\"\"\"[NAME=Lee,\n",
        "                          ADDRESS=[NUMBER=74,\n",
        "                                   STREET='rue Pascal'],\n",
        "                          SPOUSE= [NAME=Kim,\n",
        "                                   ADDRESS=[NUMBER=74,\n",
        "                                            STREET='rue Pascal']]]\"\"\")\n",
        "print(fs0)\n",
        "\n",
        "print('\\n----------------------------------------------------------\\n')\n",
        "\n",
        "fs1 = nltk.FeatStruct(\"\"\"[SPOUSE = [ADDRESS = [CITY = 'Paris']]]\n",
        "\"\"\")\n",
        "\n",
        "print(fs0.unify(fs1))"
      ],
      "execution_count": 9,
      "outputs": [
        {
          "output_type": "stream",
          "name": "stdout",
          "text": [
            "[ ADDRESS = [ NUMBER = 74           ]               ]\n",
            "[           [ STREET = 'rue Pascal' ]               ]\n",
            "[                                                   ]\n",
            "[ NAME    = 'Lee'                                   ]\n",
            "[                                                   ]\n",
            "[           [ ADDRESS = [ NUMBER = 74           ] ] ]\n",
            "[ SPOUSE  = [           [ STREET = 'rue Pascal' ] ] ]\n",
            "[           [                                     ] ]\n",
            "[           [ NAME    = 'Kim'                     ] ]\n",
            "\n",
            "----------------------------------------------------------\n",
            "\n",
            "[ ADDRESS = [ NUMBER = 74           ]               ]\n",
            "[           [ STREET = 'rue Pascal' ]               ]\n",
            "[                                                   ]\n",
            "[ NAME    = 'Lee'                                   ]\n",
            "[                                                   ]\n",
            "[           [           [ CITY   = 'Paris'      ] ] ]\n",
            "[           [ ADDRESS = [ NUMBER = 74           ] ] ]\n",
            "[ SPOUSE  = [           [ STREET = 'rue Pascal' ] ] ]\n",
            "[           [                                     ] ]\n",
            "[           [ NAME    = 'Kim'                     ] ]\n"
          ]
        }
      ]
    },
    {
      "cell_type": "code",
      "metadata": {
        "colab": {
          "base_uri": "https://localhost:8080/"
        },
        "id": "KP1prgbVLgEy",
        "outputId": "3786bc30-e368-46b6-aa71-aebba7508535"
      },
      "source": [
        "fs2 = nltk.FeatStruct(\"\"\"[NAME=Lee, ADDRESS=(1)[NUMBER=74, STREET='rue Pascal'],\n",
        "                           SPOUSE=[NAME=Kim, ADDRESS->(1)]]\"\"\")\n",
        "print(fs2.unify(fs1))\n",
        "\n",
        "# thus in this case the reference of the object got updated, thus all edges that have a reentrancy to that referential object are updated \n",
        "# more generally if a common edge's atom is updated, all paths that are equivalent to that path are updated too. "
      ],
      "execution_count": 10,
      "outputs": [
        {
          "output_type": "stream",
          "name": "stdout",
          "text": [
            "[               [ CITY   = 'Paris'      ] ]\n",
            "[ ADDRESS = (1) [ NUMBER = 74           ] ]\n",
            "[               [ STREET = 'rue Pascal' ] ]\n",
            "[                                         ]\n",
            "[ NAME    = 'Lee'                         ]\n",
            "[                                         ]\n",
            "[ SPOUSE  = [ ADDRESS -> (1)  ]           ]\n",
            "[           [ NAME    = 'Kim' ]           ]\n"
          ]
        }
      ]
    },
    {
      "cell_type": "markdown",
      "metadata": {
        "id": "lqjgIqFZMbLj"
      },
      "source": [
        "#3. Extending a feature based grammar \n",
        "\n",
        "## 3.1 Subcategorization\n",
        "\n",
        "> Transitive verbs need an object to complete their action, while Intransitive verbs do not. \n",
        "\n",
        "eg: **I bring water.** \"Bring\" here is transitive because it needs an object to transfer it's action to. \n",
        "Whereas **I walk.** is intransitive because walk does not need an object to transfer its action. \n",
        "\n",
        "> Note: Some verbs function both ways. \n",
        "eg: She sang. She sang a song. \n"
      ]
    },
    {
      "cell_type": "markdown",
      "metadata": {
        "id": "RtCqJXglQ5IX"
      },
      "source": [
        "So one problem we run into with using a CFG with attributes, is that a production of the type\n",
        "\n",
        "```\n",
        "VP -> IV\n",
        "VP -> TV NP\n",
        "```\n",
        "\n",
        "doesnt let us say anything about verbs in general, even though IV and TV are both verbs. From the perspective of a CFG, they are just \"atomic nonterminal symbols.\"\n",
        "\n",
        "One way around this is to introduce the attribute of subcategorization, like so \n",
        "\n",
        "```\n",
        "VP[TENSE=?t, NUM=?n] -> V[SUBCAT=intrans, TENSE=?t, NUM=?n]\n",
        "VP[TENSE=?t, NUM=?n] -> V[SUBCAT=trans, TENSE=?t, NUM=?n] NP\n",
        "VP[TENSE=?t, NUM=?n] -> V[SUBCAT=clause, TENSE=?t, NUM=?n] SBar\n",
        "```\n",
        "\n",
        "This is called **Generalized Phrase Structure Grammar** or GPSG. \n",
        "As you can see the \"subcat\" is not added to the VP but to the V because the subcat is a pointer to a production in which `V[subcat = trans]` is introduced as the head element. The head element modifies the the subsequent elements. "
      ]
    },
    {
      "cell_type": "markdown",
      "metadata": {
        "id": "1QDulo4qj0iu"
      },
      "source": [
        "Another way of subcategorizing is through a framework known as categorical grammar. The subcat values encode the valency of a head (the list of arguments that it can combine with)\n",
        "\n",
        "It would look something like so\n",
        "``` \n",
        "V[SUBCAT = <NP, Np, PP>]\n",
        "```\n",
        "\n",
        "which means that the first `NP` is the subject of the lexical head, while the following elements comprise the subcategorized-for compliments. \n",
        "\n",
        "A traditional VP production rule looks so:\n",
        "```\n",
        "VP -> V NP # tradtional production rule\n",
        "\n",
        "V[SUBCAT = <NP>]\n",
        "\n",
        "```"
      ]
    },
    {
      "cell_type": "markdown",
      "metadata": {
        "id": "G6TrjL5SmsJM"
      },
      "source": [
        "## 3.2 Heads Revisited\n",
        "\n",
        "- V (verbs) are heads of phrases of category VP. \n",
        "- Ns are heads of phrases of category NP\n",
        "- Ps are heads of phrases of category PP\n",
        "\n",
        "Not all phrases need to have heads, for example coordinate phrases (the book adn the ball) does not have a head. \n",
        "\n",
        "X-Bar Syntax is a way of building up the grammar, where typically 3 levels are used to build up from a lexical level (level = 0) to a phrasal level (level = 2).\n",
        "\n",
        "- Lexical level N is called zero projection \n",
        "- N\" (level = 2) is clled the maximal projection\n",
        "- N' (level = 1) is typicalled called Nominative (nom) which is a grouping of nouns or adjectives with similar characteristics. \n",
        "\n",
        "Features of X-Bar grammar:\n",
        "- The purpose of this representation is so that all constituents share a similar structure. \n",
        "- subcategorized complements (what matches their valency) are placed as siblings on the head \n",
        "- adjuncts (that can add information and can be removed without affecting the structure of the sentence) are placed as siblings of an intermediate category.  \n",
        "\n",
        "\n",
        "![image.png](data:image/png;base64,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) ![image.png](data:image/png;base64,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)"
      ]
    },
    {
      "cell_type": "markdown",
      "metadata": {
        "id": "bEbKYpBHu22f"
      },
      "source": [
        "## X-BAR grammar\n",
        "\n",
        "```\n",
        "S -> N[BAR=2] V[BAR=2]\n",
        "N[BAR=2] -> Det N[BAR=1]\n",
        "N[BAR=1] -> N[BAR=1] P[BAR=2]\n",
        "N[BAR=1] -> N[BAR=0] P[BAR=2]\n",
        "N[BAR=1] -> N[BAR=0]XS\n",
        "```\n",
        "\n",
        "![image.png](data:image/png;base64,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)"
      ]
    },
    {
      "cell_type": "markdown",
      "metadata": {
        "id": "EXpaEnQWu2cV"
      },
      "source": [
        "\n"
      ]
    }
  ]
}